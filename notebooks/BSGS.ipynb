{
 "cells": [
  {
   "cell_type": "code",
   "execution_count": 40,
   "id": "9c2e8fab",
   "metadata": {},
   "outputs": [],
   "source": [
    "from IPython.display import display, Math"
   ]
  },
  {
   "cell_type": "code",
   "execution_count": 59,
   "id": "46bf2777",
   "metadata": {},
   "outputs": [
    {
     "name": "stdout",
     "output_type": "stream",
     "text": [
      "Starting by calculating b_i = g^i values from 0 to sqrt(100):\n"
     ]
    },
    {
     "data": {
      "text/latex": [
       "$\\displaystyle b_0 = 2^0 = 1 \\; (mod \\; 101)$"
      ],
      "text/plain": [
       "<IPython.core.display.Math object>"
      ]
     },
     "metadata": {},
     "output_type": "display_data"
    },
    {
     "data": {
      "text/latex": [
       "$\\displaystyle b_{1} = 2^{1} = 2 \\; (mod \\; 101)$"
      ],
      "text/plain": [
       "<IPython.core.display.Math object>"
      ]
     },
     "metadata": {},
     "output_type": "display_data"
    },
    {
     "data": {
      "text/latex": [
       "$\\displaystyle b_{2} = 2^{2} = 4 \\; (mod \\; 101)$"
      ],
      "text/plain": [
       "<IPython.core.display.Math object>"
      ]
     },
     "metadata": {},
     "output_type": "display_data"
    },
    {
     "data": {
      "text/latex": [
       "$\\displaystyle b_{3} = 2^{3} = 8 \\; (mod \\; 101)$"
      ],
      "text/plain": [
       "<IPython.core.display.Math object>"
      ]
     },
     "metadata": {},
     "output_type": "display_data"
    },
    {
     "data": {
      "text/latex": [
       "$\\displaystyle b_{4} = 2^{4} = 16 \\; (mod \\; 101)$"
      ],
      "text/plain": [
       "<IPython.core.display.Math object>"
      ]
     },
     "metadata": {},
     "output_type": "display_data"
    },
    {
     "data": {
      "text/latex": [
       "$\\displaystyle b_{5} = 2^{5} = 32 \\; (mod \\; 101)$"
      ],
      "text/plain": [
       "<IPython.core.display.Math object>"
      ]
     },
     "metadata": {},
     "output_type": "display_data"
    },
    {
     "data": {
      "text/latex": [
       "$\\displaystyle b_{6} = 2^{6} = 64 \\; (mod \\; 101)$"
      ],
      "text/plain": [
       "<IPython.core.display.Math object>"
      ]
     },
     "metadata": {},
     "output_type": "display_data"
    },
    {
     "data": {
      "text/latex": [
       "$\\displaystyle b_{7} = 2^{7} = 27 \\; (mod \\; 101)$"
      ],
      "text/plain": [
       "<IPython.core.display.Math object>"
      ]
     },
     "metadata": {},
     "output_type": "display_data"
    },
    {
     "data": {
      "text/latex": [
       "$\\displaystyle b_{8} = 2^{8} = 54 \\; (mod \\; 101)$"
      ],
      "text/plain": [
       "<IPython.core.display.Math object>"
      ]
     },
     "metadata": {},
     "output_type": "display_data"
    },
    {
     "data": {
      "text/latex": [
       "$\\displaystyle b_{9} = 2^{9} = 7 \\; (mod \\; 101)$"
      ],
      "text/plain": [
       "<IPython.core.display.Math object>"
      ]
     },
     "metadata": {},
     "output_type": "display_data"
    },
    {
     "data": {
      "text/latex": [
       "$\\displaystyle b_{10} = 2^{10} = 14 \\; (mod \\; 101)$"
      ],
      "text/plain": [
       "<IPython.core.display.Math object>"
      ]
     },
     "metadata": {},
     "output_type": "display_data"
    },
    {
     "name": "stdout",
     "output_type": "stream",
     "text": [
      "\n",
      "Now we calculate:\n"
     ]
    },
    {
     "data": {
      "text/latex": [
       "$\\displaystyle c_{0} = 2^a \\cdot 2^{-\\sqrt{l} \\cdot 0} = 53 \\; (mod \\; 101)$"
      ],
      "text/plain": [
       "<IPython.core.display.Math object>"
      ]
     },
     "metadata": {},
     "output_type": "display_data"
    },
    {
     "data": {
      "text/latex": [
       "$\\displaystyle c_{1} = 2^a \\cdot 2^{-\\sqrt{l} \\cdot 1} = 11 \\; (mod \\; 101)$"
      ],
      "text/plain": [
       "<IPython.core.display.Math object>"
      ]
     },
     "metadata": {},
     "output_type": "display_data"
    },
    {
     "data": {
      "text/latex": [
       "$\\displaystyle c_{2} = 2^a \\cdot 2^{-\\sqrt{l} \\cdot 2} = 8 \\; (mod \\; 101)$"
      ],
      "text/plain": [
       "<IPython.core.display.Math object>"
      ]
     },
     "metadata": {},
     "output_type": "display_data"
    },
    {
     "name": "stdout",
     "output_type": "stream",
     "text": [
      "\n",
      "\n",
      "We got:\n"
     ]
    },
    {
     "data": {
      "text/latex": [
       "$\\displaystyle c_{2} = b_{3}$"
      ],
      "text/plain": [
       "<IPython.core.display.Math object>"
      ]
     },
     "metadata": {},
     "output_type": "display_data"
    },
    {
     "name": "stdout",
     "output_type": "stream",
     "text": [
      "So:\n"
     ]
    },
    {
     "data": {
      "text/latex": [
       "$\\displaystyle a \\equiv i + \\sqrt{l} \\cdot j \\equiv 3 + 10 \\cdot 2 \\equiv 23 \\; (mod \\; 100)$"
      ],
      "text/plain": [
       "<IPython.core.display.Math object>"
      ]
     },
     "metadata": {},
     "output_type": "display_data"
    },
    {
     "name": "stdout",
     "output_type": "stream",
     "text": [
      "validating:\n",
      "success\n"
     ]
    }
   ],
   "source": [
    "# baby step giant step\n",
    "p = 101\n",
    "l = p - 1\n",
    "g = 2\n",
    "g_a = 53\n",
    "\n",
    "###########################\n",
    "\n",
    "Fp = FiniteField(p)\n",
    "g = Fp(g)\n",
    "assert Fp(g)^l == 1\n",
    "\n",
    "sqrt_l = ceil(sqrt(l)) if float(sqrt(l)) % 1 != 0 else int(sqrt(l))\n",
    "\n",
    "print(f'Starting by calculating b_i = g^i values from 0 to sqrt({l}):')\n",
    "bi_values = [1]\n",
    "display(Math(fr'b_0 = {g}^0 = {bi_values[-1]} \\; (mod \\; {p})'))\n",
    "for i in range(1, sqrt_l + 1):\n",
    "    bi_values.append(g^i)\n",
    "    display(Math(fr'b_{{{i}}} = {g}^{{{i}}} = {bi_values[-1]} \\; (mod \\; {p})'))\n",
    "\n",
    "print('\\nNow we calculate:')\n",
    "for j in range(sqrt_l + 2):\n",
    "    cj = g_a * g^(-sqrt_l*j)  # might be buggy if l's sqrt is not an integer (becuase of ceil)\n",
    "    display(Math(fr'c_{{{j}}} = {g}^a \\cdot {g}^{{-\\sqrt{{l}} \\cdot {j}}} = {cj} \\; (mod \\; {p})'))\n",
    "    if cj in bi_values: \n",
    "        i = bi_values.index(cj)\n",
    "        break\n",
    "        \n",
    "assert cj == bi_values[i]\n",
    "print('\\n\\nWe got:')\n",
    "display(Math(fr'c_{{{j}}} = b_{{{i}}}'))\n",
    "\n",
    "a = i + sqrt_l * j\n",
    "print('So:')\n",
    "display(Math(fr'a \\equiv i + \\sqrt{{l}} \\cdot j \\equiv {i} + {sqrt_l} \\cdot {j} \\equiv {a} \\; (mod \\; {l})'))\n",
    "\n",
    "print('validating:')\n",
    "assert g_a == g^a\n",
    "print('success')\n"
   ]
  }
 ],
 "metadata": {
  "kernelspec": {
   "display_name": "SageMath 10.1",
   "language": "sage",
   "name": "sagemath-10.1"
  },
  "language_info": {
   "codemirror_mode": {
    "name": "ipython",
    "version": 3
   },
   "file_extension": ".py",
   "mimetype": "text/x-python",
   "name": "python",
   "nbconvert_exporter": "python",
   "pygments_lexer": "ipython3",
   "version": "3.11.1"
  }
 },
 "nbformat": 4,
 "nbformat_minor": 5
}
