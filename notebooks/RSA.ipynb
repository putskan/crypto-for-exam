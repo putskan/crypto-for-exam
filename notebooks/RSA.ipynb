{
 "cells": [
  {
   "cell_type": "code",
   "execution_count": 1,
   "id": "80c8602c",
   "metadata": {},
   "outputs": [
    {
     "name": "stdout",
     "output_type": "stream",
     "text": [
      "[(3, 1), (13, 1), (53, 1)]\n"
     ]
    },
    {
     "ename": "AssertionError",
     "evalue": "[3, 13, 53]",
     "output_type": "error",
     "traceback": [
      "\u001b[0;31m---------------------------------------------------------------------------\u001b[0m",
      "\u001b[0;31mAssertionError\u001b[0m                            Traceback (most recent call last)",
      "Cell \u001b[0;32mIn [1], line 8\u001b[0m\n\u001b[1;32m      6\u001b[0m factors \u001b[38;5;241m=\u001b[39m [r[Integer(\u001b[38;5;241m0\u001b[39m)] \u001b[38;5;28;01mfor\u001b[39;00m r \u001b[38;5;129;01min\u001b[39;00m \u001b[38;5;28mlist\u001b[39m(F)]\n\u001b[1;32m      7\u001b[0m \u001b[38;5;28mprint\u001b[39m(\u001b[38;5;28mlist\u001b[39m(F))\n\u001b[0;32m----> 8\u001b[0m \u001b[38;5;28;01massert\u001b[39;00m \u001b[38;5;28mlen\u001b[39m(factors) \u001b[38;5;241m==\u001b[39m Integer(\u001b[38;5;241m2\u001b[39m), factors\n\u001b[1;32m      9\u001b[0m p, q \u001b[38;5;241m=\u001b[39m factors\n\u001b[1;32m     10\u001b[0m \u001b[38;5;28mprint\u001b[39m(\u001b[38;5;124mf\u001b[39m\u001b[38;5;124m'\u001b[39m\u001b[38;5;124mp=\u001b[39m\u001b[38;5;132;01m{\u001b[39;00mp\u001b[38;5;132;01m}\u001b[39;00m\u001b[38;5;124m, q=\u001b[39m\u001b[38;5;132;01m{\u001b[39;00mq\u001b[38;5;132;01m}\u001b[39;00m\u001b[38;5;124m'\u001b[39m)\n",
      "\u001b[0;31mAssertionError\u001b[0m: [3, 13, 53]"
     ]
    }
   ],
   "source": [
    "# RSA check valid key - checks e, phi(n) are coprimes, and that n is a product of exactly two primes\n",
    "e = 101\n",
    "n = 2067\n",
    "# (101, 2067)\n",
    "F = factor(n)\n",
    "factors = [r[0] for r in list(F)]\n",
    "print(list(F))\n",
    "assert len(factors) == 2, factors\n",
    "p, q = factors\n",
    "print(f'p={p}, q={q}')\n",
    "phi_n = (p-1) * (q-1)\n",
    "print('phi_n=',phi_n)\n",
    "\n",
    "print(gcd(phi_n, e))\n",
    "assert gcd(phi_n, e) == 1\n",
    "# check e and phi are coprimes\n"
   ]
  },
  {
   "cell_type": "code",
   "execution_count": 20,
   "id": "f123b38b",
   "metadata": {},
   "outputs": [
    {
     "name": "stdout",
     "output_type": "stream",
     "text": [
      "True\n",
      "True\n",
      "True\n",
      "False\n"
     ]
    }
   ],
   "source": [
    "# check secret key corresponds to public key\n",
    "e = 19 # sk\n",
    "d = 24 # pk\n",
    "n = 77\n",
    "factor_n = factor(n)\n",
    "\n",
    "\n",
    "phi_n = (factor_n[0][0] - 1) * (factor_n[1][0] - 1)\n",
    "\n",
    "# check pq = n\n",
    "print(len(factor_n) == 2)\n",
    "for power in dict(factor_n).values():\n",
    "    print(power == 1)\n",
    "\n",
    "# check inverses mod phi n\n",
    "print((e * d) % phi_n == 1)\n",
    "\n"
   ]
  },
  {
   "cell_type": "code",
   "execution_count": 19,
   "id": "251e3a3d",
   "metadata": {},
   "outputs": [
    {
     "data": {
      "text/plain": [
       "2 * 3 * 727"
      ]
     },
     "execution_count": 19,
     "metadata": {},
     "output_type": "execute_result"
    }
   ],
   "source": [
    "factor_n"
   ]
  }
 ],
 "metadata": {
  "kernelspec": {
   "display_name": "SageMath 10.1",
   "language": "sage",
   "name": "sagemath-10.1"
  },
  "language_info": {
   "codemirror_mode": {
    "name": "ipython",
    "version": 3
   },
   "file_extension": ".py",
   "mimetype": "text/x-python",
   "name": "python",
   "nbconvert_exporter": "python",
   "pygments_lexer": "ipython3",
   "version": "3.11.1"
  }
 },
 "nbformat": 4,
 "nbformat_minor": 5
}
