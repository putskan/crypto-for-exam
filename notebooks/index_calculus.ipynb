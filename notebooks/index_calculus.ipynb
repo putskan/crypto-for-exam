{
 "cells": [
  {
   "cell_type": "code",
   "execution_count": 1,
   "id": "bdbde1b2",
   "metadata": {},
   "outputs": [],
   "source": [
    "from IPython.display import display, Math\n"
   ]
  },
  {
   "cell_type": "code",
   "execution_count": 7,
   "id": "d29207a4",
   "metadata": {},
   "outputs": [
    {
     "name": "stdout",
     "output_type": "stream",
     "text": [
      "Using factor base: [2, 3, 5]\n",
      "Let us find factorizations that involve only our factor base:\n",
      "\n"
     ]
    },
    {
     "data": {
      "text/latex": [
       "$\\displaystyle 492^{2} = 239^{1}(mod 569)$"
      ],
      "text/plain": [
       "<IPython.core.display.Math object>"
      ]
     },
     "metadata": {},
     "output_type": "display_data"
    },
    {
     "name": "stdout",
     "output_type": "stream",
     "text": [
      "Note 239 is not in our factor base. Not using this equation.\n",
      "\n",
      "\n"
     ]
    },
    {
     "data": {
      "text/latex": [
       "$\\displaystyle 492^{3} = 2^{1} + 11^{1} + 17^{1}(mod 569)$"
      ],
      "text/plain": [
       "<IPython.core.display.Math object>"
      ]
     },
     "metadata": {},
     "output_type": "display_data"
    },
    {
     "name": "stdout",
     "output_type": "stream",
     "text": [
      "Note 11 is not in our factor base. Not using this equation.\n",
      "Note 17 is not in our factor base. Not using this equation.\n",
      "\n",
      "\n"
     ]
    },
    {
     "data": {
      "text/latex": [
       "$\\displaystyle 492^{4} = 13^{1} + 17^{1}(mod 569)$"
      ],
      "text/plain": [
       "<IPython.core.display.Math object>"
      ]
     },
     "metadata": {},
     "output_type": "display_data"
    },
    {
     "name": "stdout",
     "output_type": "stream",
     "text": [
      "Note 13 is not in our factor base. Not using this equation.\n",
      "Note 17 is not in our factor base. Not using this equation.\n",
      "\n",
      "\n"
     ]
    },
    {
     "data": {
      "text/latex": [
       "$\\displaystyle 492^{5} = 53^{1}(mod 569)$"
      ],
      "text/plain": [
       "<IPython.core.display.Math object>"
      ]
     },
     "metadata": {},
     "output_type": "display_data"
    },
    {
     "name": "stdout",
     "output_type": "stream",
     "text": [
      "Note 53 is not in our factor base. Not using this equation.\n",
      "\n",
      "\n"
     ]
    },
    {
     "data": {
      "text/latex": [
       "$\\displaystyle 492^{6} = 3^{1} + 157^{1}(mod 569)$"
      ],
      "text/plain": [
       "<IPython.core.display.Math object>"
      ]
     },
     "metadata": {},
     "output_type": "display_data"
    },
    {
     "name": "stdout",
     "output_type": "stream",
     "text": [
      "Note 157 is not in our factor base. Not using this equation.\n",
      "\n",
      "\n"
     ]
    },
    {
     "data": {
      "text/latex": [
       "$\\displaystyle 492^{7} = 149^{1}(mod 569)$"
      ],
      "text/plain": [
       "<IPython.core.display.Math object>"
      ]
     },
     "metadata": {},
     "output_type": "display_data"
    },
    {
     "name": "stdout",
     "output_type": "stream",
     "text": [
      "Note 149 is not in our factor base. Not using this equation.\n",
      "\n",
      "\n"
     ]
    },
    {
     "data": {
      "text/latex": [
       "$\\displaystyle 492^{8} = 2^{2} + 7^{1} + 17^{1}(mod 569)$"
      ],
      "text/plain": [
       "<IPython.core.display.Math object>"
      ]
     },
     "metadata": {},
     "output_type": "display_data"
    },
    {
     "name": "stdout",
     "output_type": "stream",
     "text": [
      "Note 7 is not in our factor base. Not using this equation.\n",
      "Note 17 is not in our factor base. Not using this equation.\n",
      "\n",
      "\n"
     ]
    },
    {
     "data": {
      "text/latex": [
       "$\\displaystyle 492^{9} = 3^{2} + 37^{1}(mod 569)$"
      ],
      "text/plain": [
       "<IPython.core.display.Math object>"
      ]
     },
     "metadata": {},
     "output_type": "display_data"
    },
    {
     "name": "stdout",
     "output_type": "stream",
     "text": [
      "Note 37 is not in our factor base. Not using this equation.\n",
      "\n",
      "\n"
     ]
    },
    {
     "data": {
      "text/latex": [
       "$\\displaystyle 492^{10} = 13^{1} + 41^{1}(mod 569)$"
      ],
      "text/plain": [
       "<IPython.core.display.Math object>"
      ]
     },
     "metadata": {},
     "output_type": "display_data"
    },
    {
     "name": "stdout",
     "output_type": "stream",
     "text": [
      "Note 13 is not in our factor base. Not using this equation.\n",
      "Note 41 is not in our factor base. Not using this equation.\n",
      "\n",
      "\n"
     ]
    },
    {
     "data": {
      "text/latex": [
       "$\\displaystyle 492^{11} = 2^{4} + 31^{1}(mod 569)$"
      ],
      "text/plain": [
       "<IPython.core.display.Math object>"
      ]
     },
     "metadata": {},
     "output_type": "display_data"
    },
    {
     "name": "stdout",
     "output_type": "stream",
     "text": [
      "Note 31 is not in our factor base. Not using this equation.\n",
      "\n",
      "\n"
     ]
    },
    {
     "data": {
      "text/latex": [
       "$\\displaystyle 492^{12} = 2^{2} + 5^{3}(mod 569)$"
      ],
      "text/plain": [
       "<IPython.core.display.Math object>"
      ]
     },
     "metadata": {},
     "output_type": "display_data"
    },
    {
     "name": "stdout",
     "output_type": "stream",
     "text": [
      "\n",
      "\n"
     ]
    },
    {
     "data": {
      "text/latex": [
       "$\\displaystyle 492^{13} = 2^{6} + 3^{1}(mod 569)$"
      ],
      "text/plain": [
       "<IPython.core.display.Math object>"
      ]
     },
     "metadata": {},
     "output_type": "display_data"
    },
    {
     "name": "stdout",
     "output_type": "stream",
     "text": [
      "\n",
      "\n"
     ]
    },
    {
     "data": {
      "text/latex": [
       "$\\displaystyle 492^{14} = 2^{1} + 5^{1}(mod 569)$"
      ],
      "text/plain": [
       "<IPython.core.display.Math object>"
      ]
     },
     "metadata": {},
     "output_type": "display_data"
    },
    {
     "name": "stdout",
     "output_type": "stream",
     "text": [
      "\n",
      "\n",
      "Found 3 equations, we can carry on.\n"
     ]
    }
   ],
   "source": [
    "####### config start #######\n",
    "# numbers taken from lecture notes\n",
    "# p = 107\n",
    "# Fp = FiniteField(p)\n",
    "# g = Fp(17)\n",
    "# g_a = 91\n",
    "# taking some factor base:\n",
    "# factor_base = [2, 3, 5]\n",
    "\n",
    "\n",
    "p = 569\n",
    "g = 492\n",
    "g_a = 507\n",
    "# taking some factor base:\n",
    "factor_base = [2, 3, 5]\n",
    "####### config end #######\n",
    "\n",
    "\n",
    "\n",
    "\n",
    "\n",
    "\n",
    "Fp = FiniteField(p)\n",
    "g = Fp(g)\n",
    "print('Using factor base:', factor_base)\n",
    "print('Let us find factorizations that involve only our factor base:\\n')\n",
    "\n",
    "\n",
    "for num in factor_base:\n",
    "    assert num.is_prime(), num\n",
    "\n",
    "\n",
    "total_equations = 0\n",
    "equations = []\n",
    "i = 2\n",
    "while True:\n",
    "    is_usable_equation = True\n",
    "    if len(equations) == len(factor_base):\n",
    "        print(f'Found {len(equations)} equations, we can carry on.')\n",
    "        break\n",
    "    curr_factors = dict(factor(int(g^i))) # {factor: expo} pairs\n",
    "    \n",
    "    equation_to_display = fr'{g}^{{{i}}} = '\n",
    "    for f, expo in curr_factors.items():\n",
    "        equation_to_display += fr'{f}^{{{expo}}} + '\n",
    "    equation_to_display = equation_to_display[:-3]\n",
    "    equation_to_display += fr'(mod {p})'\n",
    "    display(Math(equation_to_display))\n",
    "    \n",
    "    for f in curr_factors:\n",
    "        if f not in factor_base:\n",
    "            print(f'Note {f} is not in our factor base. Not using this equation.')\n",
    "            is_usable_equation = False\n",
    "    print('\\n')\n",
    "    \n",
    "    if is_usable_equation:\n",
    "        equations.append((i, curr_factors))\n",
    "        \n",
    "    i += 1    \n",
    "    \n",
    "    \n",
    "    \n"
   ]
  },
  {
   "cell_type": "code",
   "execution_count": 9,
   "id": "65081f95",
   "metadata": {},
   "outputs": [
    {
     "name": "stdout",
     "output_type": "stream",
     "text": [
      "Using Logarithm Rules, our equations are:\n"
     ]
    },
    {
     "data": {
      "text/latex": [
       "$\\displaystyle 12 = 2\\cdot log_{492}(2) + 3\\cdot log_{492}(5)\\,\\,(mod 568)$"
      ],
      "text/plain": [
       "<IPython.core.display.Math object>"
      ]
     },
     "metadata": {},
     "output_type": "display_data"
    },
    {
     "data": {
      "text/latex": [
       "$\\displaystyle 13 = 6\\cdot log_{492}(2) + 1\\cdot log_{492}(3)\\,\\,(mod 568)$"
      ],
      "text/plain": [
       "<IPython.core.display.Math object>"
      ]
     },
     "metadata": {},
     "output_type": "display_data"
    },
    {
     "data": {
      "text/latex": [
       "$\\displaystyle 14 = 1\\cdot log_{492}(2) + 1\\cdot log_{492}(5)\\,\\,(mod 568)$"
      ],
      "text/plain": [
       "<IPython.core.display.Math object>"
      ]
     },
     "metadata": {},
     "output_type": "display_data"
    },
    {
     "name": "stdout",
     "output_type": "stream",
     "text": [
      "\n",
      "\n",
      "*** NOW WE NEED TO SOLVE IT BY HAND ***\n",
      "\n",
      "\n"
     ]
    }
   ],
   "source": [
    "print('Using Logarithm Rules, our equations are:')\n",
    "for i, curr_factors in equations:\n",
    "    equation_str = fr'{i} = '\n",
    "    for f, expo in curr_factors.items():\n",
    "        equation_str += fr'{expo}\\cdot log_{{{g}}}({f}) + '\n",
    "    equation_str = equation_str[:-3]\n",
    "    equation_str += fr'\\,\\,(mod {p-1})'\n",
    "    display(Math(equation_str))\n",
    "\n",
    "print('\\n\\n*** NOW WE NEED TO SOLVE IT BY HAND ***\\n\\n')"
   ]
  },
  {
   "cell_type": "code",
   "execution_count": 14,
   "id": "c95de6d2",
   "metadata": {},
   "outputs": [
    {
     "name": "stdout",
     "output_type": "stream",
     "text": [
      "After iterating over 492^i values, we get the following equation only invloves our factor base:\n"
     ]
    },
    {
     "data": {
      "text/latex": [
       "$\\displaystyle 492^{5} \\cdot 507 = 2^{7} (mod 569)$"
      ],
      "text/plain": [
       "<IPython.core.display.Math object>"
      ]
     },
     "metadata": {},
     "output_type": "display_data"
    },
    {
     "name": "stdout",
     "output_type": "stream",
     "text": [
      "Therefore, we get:\n"
     ]
    },
    {
     "data": {
      "text/latex": [
       "$\\displaystyle 5 + log_{492}(507) = 7 \\cdot log_{492}(2) \\;\\;(mod 568)$"
      ],
      "text/plain": [
       "<IPython.core.display.Math object>"
      ]
     },
     "metadata": {},
     "output_type": "display_data"
    },
    {
     "name": "stdout",
     "output_type": "stream",
     "text": [
      "\n",
      " Now we can plug in the results from the previous equation and get: \n"
     ]
    },
    {
     "data": {
      "text/latex": [
       "$\\displaystyle a = log_{492}(507) = \\;...$"
      ],
      "text/plain": [
       "<IPython.core.display.Math object>"
      ]
     },
     "metadata": {},
     "output_type": "display_data"
    }
   ],
   "source": [
    "print(f'After iterating over {g}^i values, we get the following equation only invloves our factor base:')\n",
    "i = 0\n",
    "while True:\n",
    "    usable_equation = True\n",
    "    factors = dict(factor(int((g^i)*g_a)))\n",
    "    for f in factors:\n",
    "        if f not in factor_base:\n",
    "            usable_equation = False\n",
    "            break\n",
    "    if not usable_equation: \n",
    "        i += 1 \n",
    "        continue\n",
    "    equation_str = fr'{g}^{{{i}}} \\cdot {g_a} = '\n",
    "    for f, expo in factors.items():\n",
    "        equation_str += fr'{f}^{{{expo}}} + '\n",
    "    equation_str = equation_str[:-2]\n",
    "    equation_str += fr'(mod {p})'\n",
    "    display(Math(equation_str))\n",
    "    break\n",
    "    \n",
    "\n",
    "print('Therefore, we get:')\n",
    "log_equation_str = fr'{i} + log_{{{g}}}({g_a}) = '\n",
    "for f, expo in factors.items():\n",
    "    log_equation_str += fr'{expo} \\cdot log_{{{g}}}({f}) + '\n",
    "log_equation_str = log_equation_str[:-2]\n",
    "log_equation_str += fr'\\;\\;(mod {p-1})'\n",
    "display(Math(log_equation_str))\n",
    "print('\\n Now we can plug in the results from the previous equation and get: ')\n",
    "display(Math(fr'a = log_{{{g}}}({g_a}) = \\;...'))"
   ]
  },
  {
   "cell_type": "code",
   "execution_count": 22,
   "id": "dfa66842",
   "metadata": {},
   "outputs": [
    {
     "name": "stdout",
     "output_type": "stream",
     "text": [
      "success!\n"
     ]
    }
   ],
   "source": [
    "# validation:\n",
    "a = 205\n",
    "assert g^a == g_a\n",
    "print('success!')"
   ]
  }
 ],
 "metadata": {
  "kernelspec": {
   "display_name": "SageMath 10.1",
   "language": "sage",
   "name": "sagemath-10.1"
  },
  "language_info": {
   "codemirror_mode": {
    "name": "ipython",
    "version": 3
   },
   "file_extension": ".py",
   "mimetype": "text/x-python",
   "name": "python",
   "nbconvert_exporter": "python",
   "pygments_lexer": "ipython3",
   "version": "3.11.1"
  }
 },
 "nbformat": 4,
 "nbformat_minor": 5
}
