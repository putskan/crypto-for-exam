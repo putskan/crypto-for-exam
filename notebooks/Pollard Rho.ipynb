{
 "cells": [
  {
   "cell_type": "code",
   "execution_count": 2,
   "id": "f44aadc9",
   "metadata": {},
   "outputs": [],
   "source": [
    "from IPython.display import display, Math"
   ]
  },
  {
   "cell_type": "code",
   "execution_count": 37,
   "id": "0e143d09",
   "metadata": {},
   "outputs": [
    {
     "name": "stdout",
     "output_type": "stream",
     "text": [
      "Starting with: \n"
     ]
    },
    {
     "data": {
      "text/latex": [
       "$\\displaystyle G_0=3, b_0=1, c_0=0$"
      ],
      "text/plain": [
       "<IPython.core.display.Math object>"
      ]
     },
     "metadata": {},
     "output_type": "display_data"
    },
    {
     "name": "stdout",
     "output_type": "stream",
     "text": [
      "\n",
      "\n"
     ]
    },
    {
     "data": {
      "text/latex": [
       "$\\displaystyle G_{0} \\equiv 0 \\; (mod \\; 3)$"
      ],
      "text/plain": [
       "<IPython.core.display.Math object>"
      ]
     },
     "metadata": {},
     "output_type": "display_data"
    },
    {
     "name": "stdout",
     "output_type": "stream",
     "text": [
      "so we set:\n"
     ]
    },
    {
     "data": {
      "text/latex": [
       "$\\displaystyle (G_{1}, b_{1}, c_{1}) = (G_{0} \\cdot g, b_{0} + 1, c_{0}) = (9, 2, 0)$"
      ],
      "text/plain": [
       "<IPython.core.display.Math object>"
      ]
     },
     "metadata": {},
     "output_type": "display_data"
    },
    {
     "name": "stdout",
     "output_type": "stream",
     "text": [
      "\n",
      "\n"
     ]
    },
    {
     "data": {
      "text/latex": [
       "$\\displaystyle G_{1} \\equiv 0 \\; (mod \\; 3)$"
      ],
      "text/plain": [
       "<IPython.core.display.Math object>"
      ]
     },
     "metadata": {},
     "output_type": "display_data"
    },
    {
     "name": "stdout",
     "output_type": "stream",
     "text": [
      "so we set:\n"
     ]
    },
    {
     "data": {
      "text/latex": [
       "$\\displaystyle (G_{2}, b_{2}, c_{2}) = (G_{1} \\cdot g, b_{1} + 1, c_{1}) = (8, 3, 0)$"
      ],
      "text/plain": [
       "<IPython.core.display.Math object>"
      ]
     },
     "metadata": {},
     "output_type": "display_data"
    },
    {
     "name": "stdout",
     "output_type": "stream",
     "text": [
      "\n",
      "\n"
     ]
    },
    {
     "data": {
      "text/latex": [
       "$\\displaystyle G_{2} \\equiv 2 \\; (mod \\; 3)$"
      ],
      "text/plain": [
       "<IPython.core.display.Math object>"
      ]
     },
     "metadata": {},
     "output_type": "display_data"
    },
    {
     "name": "stdout",
     "output_type": "stream",
     "text": [
      "so we set:\n"
     ]
    },
    {
     "data": {
      "text/latex": [
       "$\\displaystyle (G_{3}, b_{3}, c_{3}) = (G_{2} \\cdot g^a, 2 \\cdot b_{2}, 2 \\cdot c_{2}) = (7, 6, 0)$"
      ],
      "text/plain": [
       "<IPython.core.display.Math object>"
      ]
     },
     "metadata": {},
     "output_type": "display_data"
    },
    {
     "name": "stdout",
     "output_type": "stream",
     "text": [
      "\n",
      "\n"
     ]
    },
    {
     "data": {
      "text/latex": [
       "$\\displaystyle G_{3} \\equiv 1 \\; (mod \\; 3)$"
      ],
      "text/plain": [
       "<IPython.core.display.Math object>"
      ]
     },
     "metadata": {},
     "output_type": "display_data"
    },
    {
     "name": "stdout",
     "output_type": "stream",
     "text": [
      "so we set:\n"
     ]
    },
    {
     "data": {
      "text/latex": [
       "$\\displaystyle (G_{4}, b_{4}, c_{4}) = (G_{3} \\cdot g^a, b_{3}, c_{3} + 1) = (3, 6, 1)$"
      ],
      "text/plain": [
       "<IPython.core.display.Math object>"
      ]
     },
     "metadata": {},
     "output_type": "display_data"
    },
    {
     "name": "stdout",
     "output_type": "stream",
     "text": [
      "\n",
      "\n",
      "Stopping. we got:\n"
     ]
    },
    {
     "data": {
      "text/latex": [
       "$\\displaystyle G_{4} = G_{0}$"
      ],
      "text/plain": [
       "<IPython.core.display.Math object>"
      ]
     },
     "metadata": {},
     "output_type": "display_data"
    },
    {
     "name": "stdout",
     "output_type": "stream",
     "text": [
      "\n",
      "\n",
      "G=3, b=6, c=1, b'=1, c'=0\n",
      "Now we can compute a:\n"
     ]
    },
    {
     "data": {
      "text/latex": [
       "$\\displaystyle a \\equiv \\dfrac{b - b'}{c' - c} \\equiv 5 \\cdot -1^{-1} \\equiv 13 \\; (mod \\; 18)$"
      ],
      "text/plain": [
       "<IPython.core.display.Math object>"
      ]
     },
     "metadata": {},
     "output_type": "display_data"
    },
    {
     "name": "stdout",
     "output_type": "stream",
     "text": [
      "\n",
      "validating:\n",
      "success.\n"
     ]
    }
   ],
   "source": [
    "g = 3\n",
    "p = 19\n",
    "g_a = 14\n",
    "\n",
    "\n",
    "\n",
    "# Fp = FiniteField(p)\n",
    "# g = Fp(g)\n",
    "# g_a = Gp(g_a)\n",
    "\n",
    "\n",
    "i = 0\n",
    "G_b_c_tuples = [(g, 1, 0)]\n",
    "G_values = [g]\n",
    "\n",
    "print('Starting with: ')\n",
    "display(Math(fr'G_{i}={G_b_c_tuples[-1][0]}, b_{i}={G_b_c_tuples[-1][1]}, c_{i}={G_b_c_tuples[-1][2]}'))\n",
    "\n",
    "while True:\n",
    "    print('\\n')\n",
    "    i += 1\n",
    "    prev_G, prev_b, prev_c = G_b_c_tuples[-1]\n",
    "    \n",
    "    display(Math(fr'G_{{{i-1}}} \\equiv {prev_G % 3} \\; (mod \\; 3)'))\n",
    "    print('so we set:')\n",
    "    \n",
    "    if prev_G % 3 == 0:\n",
    "        G = prev_G * g\n",
    "        b = prev_b + 1\n",
    "        c = prev_c\n",
    "        G, b, c = G % p, b % p, c % p\n",
    "        display(Math(fr'(G_{{{i}}}, b_{{{i}}}, c_{{{i}}}) = (G_{{{i-1}}} \\cdot g, b_{{{i-1}}} + 1, c_{{{i-1}}}) = {G, b, c}'))\n",
    "        \n",
    "    elif prev_G % 3 == 1:\n",
    "        G = prev_G * g_a\n",
    "        b = prev_b\n",
    "        c = prev_c + 1\n",
    "        G, b, c = G % p, b % p, c % p\n",
    "        display(Math(fr'(G_{{{i}}}, b_{{{i}}}, c_{{{i}}}) = (G_{{{i-1}}} \\cdot g^a, b_{{{i-1}}}, c_{{{i-1}}} + 1) = {G, b, c}'))\n",
    "\n",
    "    else:\n",
    "        G = prev_G * prev_G\n",
    "        b = 2 * prev_b\n",
    "        c = 2 * prev_c\n",
    "        G, b, c = G % p, b % p, c % p\n",
    "        display(Math(fr'(G_{{{i}}}, b_{{{i}}}, c_{{{i}}}) = (G_{{{i-1}}} \\cdot g^a, 2 \\cdot b_{{{i-1}}}, 2 \\cdot c_{{{i-1}}}) = {G, b, c}'))\n",
    "    \n",
    "    G_b_c_tuples.append((G, b, c))\n",
    "    \n",
    "    if G in G_values:\n",
    "        print('\\n\\nStopping. we got:')\n",
    "        display(Math(f'G_{{{i}}} = G_{{{G_values.index(G)}}}'))\n",
    "        G_tag, b_tag, c_tag = G_b_c_tuples[G_values.index(G)]\n",
    "        assert G == G_tag\n",
    "        break\n",
    "        \n",
    "    G_values.append(G)\n",
    "    \n",
    "    if i == 10:\n",
    "        raise Exception('something went wrong')\n",
    "    \n",
    "\n",
    "print(f\"\\n\\nG={G}, b={b}, c={c}, b'={b_tag}, c'={c_tag}\")\n",
    "print('Now we can compute a:')\n",
    "a = ((b - b_tag) * (c_tag - c).inverse_mod(p-1)) % (p-1)  # good. should be p-1\n",
    "display(Math(fr\"a \\equiv \\dfrac{{b - b'}}{{c' - c}} \\equiv {b-b_tag} \\cdot {c_tag-c}^{{-1}} \\equiv {a} \\; (mod \\; {p-1})\"))\n",
    "\n",
    "\n",
    "print('\\nvalidating:')\n",
    "assert (g^a) % p == g_a, g_a\n",
    "print('success.')\n"
   ]
  },
  {
   "cell_type": "code",
   "execution_count": 38,
   "id": "6407d3ea",
   "metadata": {},
   "outputs": [
    {
     "data": {
      "text/plain": [
       "17"
      ]
     },
     "execution_count": 38,
     "metadata": {},
     "output_type": "execute_result"
    }
   ],
   "source": [
    "FiniteField(19)(3)^16"
   ]
  }
 ],
 "metadata": {
  "kernelspec": {
   "display_name": "SageMath 10.1",
   "language": "sage",
   "name": "sagemath-10.1"
  },
  "language_info": {
   "codemirror_mode": {
    "name": "ipython",
    "version": 3
   },
   "file_extension": ".py",
   "mimetype": "text/x-python",
   "name": "python",
   "nbconvert_exporter": "python",
   "pygments_lexer": "ipython3",
   "version": "3.11.1"
  }
 },
 "nbformat": 4,
 "nbformat_minor": 5
}
