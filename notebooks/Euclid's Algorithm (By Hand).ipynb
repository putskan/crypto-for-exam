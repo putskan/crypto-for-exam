{
 "cells": [
  {
   "cell_type": "code",
   "execution_count": 33,
   "id": "1226262c",
   "metadata": {},
   "outputs": [
    {
     "name": "stdout",
     "output_type": "stream",
     "text": [
      "r0 = 103\n",
      "r1 = 69\n",
      "r2 = r0 - 1*r1 = 103 - 1*69 = 34\n",
      "r3 = r1 - 2*r2 = 69 - 2*34 = 1\n",
      "\n",
      "gcd:  1\n",
      "\n",
      "Now, to get a, b we need to \"collect\" the equations.\n",
      "\n",
      "result should be: (val_gcd, val_a, val_b) = (1, -2, 3)\n"
     ]
    }
   ],
   "source": [
    "# solve euclid's algorithm. get a, b, gcd such that an + bm = gcd\n",
    "n = 103\n",
    "m = 69\n",
    "\n",
    "###############\n",
    "\n",
    "print(f'r0 = {n}')\n",
    "print(f'r1 = {m}')\n",
    "r_idx = 1\n",
    "prev_prev_r = n\n",
    "prev_r = m\n",
    "\n",
    "gcd = 1\n",
    "curr_r = None\n",
    "while curr_r != 1:\n",
    "    r_idx += 1\n",
    "    curr_r = prev_prev_r - prev_prev_r // prev_r * prev_r    \n",
    "    if curr_r == 0: \n",
    "        gcd = prev_r\n",
    "        break\n",
    "    coeff = prev_prev_r // prev_r\n",
    "    print(f'r{r_idx} = r{r_idx - 2} - {coeff}*r{r_idx-  1} = {prev_prev_r} - {coeff}*{prev_r} = {curr_r}')\n",
    "    prev_prev_r, prev_r = prev_r, curr_r\n",
    "\n",
    "\n",
    "    \n",
    "print('\\ngcd: ', gcd)\n",
    "print('\\nNow, to get a, b we need to \"collect\" the equations.\\n')\n",
    "\n",
    "val_gcd, val_a, val_b = xgcd(n, m)\n",
    "assert gcd == val_gcd\n",
    "print(f'result should be: (val_gcd, val_a, val_b) = {val_gcd, val_a, val_b}')\n"
   ]
  },
  {
   "cell_type": "code",
   "execution_count": 32,
   "id": "3a489c77",
   "metadata": {},
   "outputs": [
    {
     "data": {
      "text/plain": [
       "1"
      ]
     },
     "execution_count": 32,
     "metadata": {},
     "output_type": "execute_result"
    }
   ],
   "source": [
    "(69*77)%83"
   ]
  },
  {
   "cell_type": "code",
   "execution_count": 34,
   "id": "5afd79b5",
   "metadata": {},
   "outputs": [
    {
     "data": {
      "text/plain": [
       "2"
      ]
     },
     "execution_count": 34,
     "metadata": {},
     "output_type": "execute_result"
    }
   ],
   "source": [
    "FiniteField(103)(52).inverse()"
   ]
  },
  {
   "cell_type": "code",
   "execution_count": 40,
   "id": "ec34175c",
   "metadata": {},
   "outputs": [
    {
     "data": {
      "text/plain": [
       "206"
      ]
     },
     "execution_count": 40,
     "metadata": {},
     "output_type": "execute_result"
    }
   ],
   "source": [
    "(171.inverse_mod(226) * 196)%226"
   ]
  }
 ],
 "metadata": {
  "kernelspec": {
   "display_name": "SageMath 10.1",
   "language": "sage",
   "name": "sagemath-10.1"
  },
  "language_info": {
   "codemirror_mode": {
    "name": "ipython",
    "version": 3
   },
   "file_extension": ".py",
   "mimetype": "text/x-python",
   "name": "python",
   "nbconvert_exporter": "python",
   "pygments_lexer": "ipython3",
   "version": "3.11.1"
  }
 },
 "nbformat": 4,
 "nbformat_minor": 5
}
