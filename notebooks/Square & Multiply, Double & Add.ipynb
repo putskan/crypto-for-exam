{
 "cells": [
  {
   "cell_type": "code",
   "execution_count": 66,
   "id": "475aed14",
   "metadata": {},
   "outputs": [],
   "source": [
    "from IPython.display import display, Math"
   ]
  },
  {
   "cell_type": "code",
   "execution_count": 94,
   "id": "80127e86",
   "metadata": {},
   "outputs": [
    {
     "name": "stdout",
     "output_type": "stream",
     "text": [
      "We want to calculate: 3^13 mod 77.\n",
      "\n",
      "\n",
      "Note, 13 in binary is: 1101\n"
     ]
    },
    {
     "data": {
      "text/latex": [
       "$\\displaystyle 3^{13} = 3^{\\sum_{i=0}^{3} e_i \\cdot 2^i } = \\prod_{i=0}^{3}{(3^{2^i})^{e_i}}$"
      ],
      "text/plain": [
       "<IPython.core.display.Math object>"
      ]
     },
     "metadata": {},
     "output_type": "display_data"
    },
    {
     "name": "stdout",
     "output_type": "stream",
     "text": [
      "Where e_i is the corresponding digit in the binary representation\n",
      "\n",
      "\n",
      "\n",
      "Square:\n"
     ]
    },
    {
     "data": {
      "text/latex": [
       "$\\displaystyle 3^{2^0} \\equiv 3\\;\\; (mod \\;77)$"
      ],
      "text/plain": [
       "<IPython.core.display.Math object>"
      ]
     },
     "metadata": {},
     "output_type": "display_data"
    },
    {
     "data": {
      "text/latex": [
       "$\\displaystyle 3^{2^1} \\equiv 3^2 \\equiv 9\\;\\; (mod \\;77)  $"
      ],
      "text/plain": [
       "<IPython.core.display.Math object>"
      ]
     },
     "metadata": {},
     "output_type": "display_data"
    },
    {
     "data": {
      "text/latex": [
       "$\\displaystyle 3^{2^2} \\equiv 9^2 \\equiv 4\\;\\; (mod \\;77)  $"
      ],
      "text/plain": [
       "<IPython.core.display.Math object>"
      ]
     },
     "metadata": {},
     "output_type": "display_data"
    },
    {
     "data": {
      "text/latex": [
       "$\\displaystyle 3^{2^3} \\equiv 4^2 \\equiv 16\\;\\; (mod \\;77)  $"
      ],
      "text/plain": [
       "<IPython.core.display.Math object>"
      ]
     },
     "metadata": {},
     "output_type": "display_data"
    },
    {
     "name": "stdout",
     "output_type": "stream",
     "text": [
      "\n",
      "\n",
      "Multiply:\n",
      "We multiply only the squares in the positions corresponding to 1 in 1101\n",
      "3 * 4 * 16 = 38 (mod 77)\n",
      "\n",
      "We get:\n"
     ]
    },
    {
     "data": {
      "text/latex": [
       "$\\displaystyle 3^{13} \\equiv 38 \\;\\; (mod \\;77)$"
      ],
      "text/plain": [
       "<IPython.core.display.Math object>"
      ]
     },
     "metadata": {},
     "output_type": "display_data"
    },
    {
     "name": "stdout",
     "output_type": "stream",
     "text": [
      "\n",
      "\n",
      "validating:\n",
      "success\n"
     ]
    }
   ],
   "source": [
    "# square and multiply - compute (a ^ b) mod p\n",
    "\n",
    "a = 3\n",
    "b = 13\n",
    "p = 77  # doesnt have to be prime\n",
    "\n",
    "###############\n",
    "\n",
    "print(f'We want to calculate: {a}^{b} mod {p}.')\n",
    "\n",
    "print('\\n\\nNote, {0} in binary is: {0:b}'.format(b))\n",
    "b_binary = '{0:b}'.format(b)\n",
    "\n",
    "eq_str = fr'{a}^{{{b}}} = {a}^{{\\sum_{{i=0}}^{{{len(b_binary) - 1}}} e_i \\cdot 2^i }} = '\n",
    "eq_str += fr'\\prod_{{i=0}}^{{{len(b_binary) - 1}}}{{({a}^{{2^i}})^{{e_i}}}}'\n",
    "display(Math(eq_str))\n",
    "print('Where e_i is the corresponding digit in the binary representation')\n",
    "\n",
    "print('\\n\\n\\nSquare:')\n",
    "squares = []\n",
    "for i in range(len(b_binary)):\n",
    "    if not squares:\n",
    "        squares.append(a % p)\n",
    "        display(Math(fr'{a}^{{2^{i}}} \\equiv {a}\\;\\; (mod \\;{p})'))\n",
    "    \n",
    "    else:\n",
    "        curr_square = (squares[-1] * squares[-1]) % p\n",
    "        display(Math(fr'{a}^{{2^{i}}} \\equiv {squares[-1]}^2 \\equiv {curr_square}\\;\\; (mod \\;{p})  '))\n",
    "        squares.append(curr_square)\n",
    "    \n",
    "\n",
    "print('\\n\\nMultiply:')\n",
    "print(f'We multiply only the squares in the positions corresponding to 1 in {b_binary}')\n",
    "filtered_squares = [s for i, s in enumerate(squares) if b_binary[-i-1] == '1']\n",
    "res = prod(filtered_squares) % p\n",
    "print(' * '.join([str(s) for s in filtered_squares]) + f' = {res} (mod {p})')\n",
    "\n",
    "print('\\nWe get:')\n",
    "display(Math(fr'{a}^{{{b}}} \\equiv {res} \\;\\; (mod \\;{p})'))\n",
    "\n",
    "\n",
    "\n",
    "\n",
    "\n",
    "print('\\n\\nvalidating:')\n",
    "assert (a ^ b) % p == res, (a ^ b) % p\n",
    "print('success')\n",
    "\n"
   ]
  },
  {
   "cell_type": "code",
   "execution_count": 58,
   "id": "46ca32b3",
   "metadata": {},
   "outputs": [],
   "source": [
    "res"
   ]
  },
  {
   "cell_type": "code",
   "execution_count": 54,
   "id": "c3ed36db",
   "metadata": {},
   "outputs": [
    {
     "data": {
      "text/plain": [
       "Ellipsis"
      ]
     },
     "execution_count": 54,
     "metadata": {},
     "output_type": "execute_result"
    }
   ],
   "source": [
    "res"
   ]
  },
  {
   "cell_type": "code",
   "execution_count": null,
   "id": "abfb2275",
   "metadata": {},
   "outputs": [],
   "source": []
  }
 ],
 "metadata": {
  "kernelspec": {
   "display_name": "SageMath 10.1",
   "language": "sage",
   "name": "sagemath-10.1"
  },
  "language_info": {
   "codemirror_mode": {
    "name": "ipython",
    "version": 3
   },
   "file_extension": ".py",
   "mimetype": "text/x-python",
   "name": "python",
   "nbconvert_exporter": "python",
   "pygments_lexer": "ipython3",
   "version": "3.11.1"
  }
 },
 "nbformat": 4,
 "nbformat_minor": 5
}
