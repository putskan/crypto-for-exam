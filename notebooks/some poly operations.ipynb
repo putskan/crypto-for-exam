{
 "cells": [
  {
   "cell_type": "code",
   "execution_count": 3,
   "id": "67110e72",
   "metadata": {},
   "outputs": [
    {
     "name": "stdout",
     "output_type": "stream",
     "text": [
      "0 1\n",
      "1 x + 1\n",
      "2 2*x\n",
      "3 2*x + 1\n",
      "4 2\n",
      "5 2*x + 2\n",
      "6 x\n",
      "7 x + 2\n",
      "8 1\n",
      "9 x + 1\n",
      "10 2*x\n",
      "11 2*x + 1\n",
      "12 2\n",
      "13 2*x + 2\n",
      "14 x\n",
      "15 x + 2\n",
      "16 1\n",
      "17 x + 1\n",
      "18 2*x\n",
      "19 2*x + 1\n",
      "20 2\n",
      "21 2*x + 2\n",
      "22 x\n",
      "23 x + 2\n",
      "24 1\n",
      "25 x + 1\n",
      "26 2*x\n",
      "27 2*x + 1\n",
      "28 2\n",
      "29 2*x + 2\n"
     ]
    }
   ],
   "source": [
    "mod = 3\n",
    "P.<y> = PolynomialRing(GF(mod))\n",
    "F29.<x> = GF(mod).extension(y^2 + 1)\n",
    "\n",
    " \n",
    "\n",
    "for n in range(30):\n",
    "    print(n, F29((1+x)^n))\n"
   ]
  },
  {
   "cell_type": "code",
   "execution_count": 27,
   "id": "b46e9ff8",
   "metadata": {},
   "outputs": [
    {
     "data": {
      "text/plain": [
       "2*x + 2"
      ]
     },
     "execution_count": 27,
     "metadata": {},
     "output_type": "execute_result"
    }
   ],
   "source": [
    "# Find generator\n",
    "F29.multiplicative_generator()"
   ]
  },
  {
   "cell_type": "code",
   "execution_count": 34,
   "id": "96cee165",
   "metadata": {},
   "outputs": [
    {
     "data": {
      "text/plain": [
       "True"
      ]
     },
     "execution_count": 34,
     "metadata": {},
     "output_type": "execute_result"
    }
   ],
   "source": [
    "F29(2*x + 2).multiplicative_order() == F29.order() - 1"
   ]
  },
  {
   "cell_type": "code",
   "execution_count": 38,
   "id": "1602a10c",
   "metadata": {},
   "outputs": [
    {
     "data": {
      "text/plain": [
       "2"
      ]
     },
     "execution_count": 38,
     "metadata": {},
     "output_type": "execute_result"
    }
   ],
   "source": [
    "F29(2).multiplicative_order()"
   ]
  },
  {
   "cell_type": "code",
   "execution_count": 46,
   "id": "7891ae1b",
   "metadata": {},
   "outputs": [
    {
     "name": "stdout",
     "output_type": "stream",
     "text": [
      "2*x^2 + 2\n",
      "2*x^2 + 2\n"
     ]
    }
   ],
   "source": [
    "# mod poly\n",
    "mod = 3\n",
    "P.<y> = PolynomialRing(GF(mod))\n",
    "F29.<x> = GF(mod).extension(y^3 + 2*y + 1)\n",
    "\n",
    "(x^4+4*x^2+4)\n",
    "\n",
    "print(((2*x^2+2*x+1)^2)*(x^2+2))\n",
    "print((x^2+2)^5)"
   ]
  }
 ],
 "metadata": {
  "kernelspec": {
   "display_name": "SageMath 10.1",
   "language": "sage",
   "name": "sagemath-10.1"
  },
  "language_info": {
   "codemirror_mode": {
    "name": "ipython",
    "version": 3
   },
   "file_extension": ".py",
   "mimetype": "text/x-python",
   "name": "python",
   "nbconvert_exporter": "python",
   "pygments_lexer": "ipython3",
   "version": "3.11.1"
  }
 },
 "nbformat": 4,
 "nbformat_minor": 5
}
