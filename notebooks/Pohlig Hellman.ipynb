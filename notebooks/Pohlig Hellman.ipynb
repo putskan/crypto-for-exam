{
 "cells": [
  {
   "cell_type": "code",
   "execution_count": 1,
   "id": "0dfafa38",
   "metadata": {},
   "outputs": [],
   "source": [
    "from IPython.display import display, Math, Markdown\n",
    "# complexity - polynomial in the biggest prime (probably becuase we exponent by it)."
   ]
  },
  {
   "cell_type": "code",
   "execution_count": 2,
   "id": "e9fa9a12",
   "metadata": {},
   "outputs": [],
   "source": [
    "########## Config Start ##########\n",
    "# config from class:\n",
    "# p = 37\n",
    "# g = 2\n",
    "# g_a = 17\n",
    "\n",
    "# p = 12289\n",
    "# g = 11\n",
    "# g_a = 8080\n",
    "\n",
    "# p = 23\n",
    "# g = 5\n",
    "# g_a = 8\n",
    "\n",
    "p = 569\n",
    "g = 492\n",
    "g_a = 507\n",
    "########## Config End ##########\n",
    "\n",
    "\n",
    "Fp = FiniteField(p)\n",
    "g = Fp(g)\n",
    "g_a = Fp(g_a)\n",
    "\n",
    "\n",
    "factors = dict(factor(p-1))"
   ]
  },
  {
   "cell_type": "code",
   "execution_count": 3,
   "id": "7dc875d5",
   "metadata": {},
   "outputs": [
    {
     "name": "stdout",
     "output_type": "stream",
     "text": [
      "As seen in class, by FLT and because g=492 is a generator, it is sufficient to find `a mod (p-1)`\n",
      "Let us start by factorizing p-1:\n"
     ]
    },
    {
     "data": {
      "text/latex": [
       "$\\displaystyle p - 1 = 568 = 2^3 * 71$"
      ],
      "text/plain": [
       "<IPython.core.display.Math object>"
      ]
     },
     "metadata": {},
     "output_type": "display_data"
    },
    {
     "name": "stdout",
     "output_type": "stream",
     "text": [
      "I will focus on each prime factor seperately, and later use SRT.\n"
     ]
    }
   ],
   "source": [
    "print(f'As seen in class, by FLT and because g={g} is a generator, it is sufficient to find `a mod (p-1)`')\n",
    "print('Let us start by factorizing p-1:')\n",
    "eq_str = fr'p - 1 = {p-1} = {factor(p - 1)}'\n",
    "display(Math(eq_str))\n",
    "print('I will focus on each prime factor seperately, and later use SRT.')\n",
    "\n",
    "# make sure dict is ordered\n",
    "assert list(factors.keys()) == [f[0] for f in factor(p - 1)]"
   ]
  },
  {
   "cell_type": "code",
   "execution_count": 4,
   "id": "96ba47ea",
   "metadata": {},
   "outputs": [
    {
     "name": "stdout",
     "output_type": "stream",
     "text": [
      "\n",
      "\n",
      "\n",
      "Focusing on 2^3:\n"
     ]
    },
    {
     "data": {
      "text/latex": [
       "$\\displaystyle 568 = 507^{568/2} = (g^a)^{568/2} = (g^{568/2})^a = (g^{568/2})^{(a_0\\cdot2^0 + a_1\\cdot2^1 + ...)} = (g^{568/2})^{a_{0}\\cdot 2^{0}} \\cdot (g^{568})^{a_1 + ...}\\stackrel{FLT}{=} (g^{568/2})^{a_{0}\\cdot 2^{0}}= (492^{284})^{a_{0}\\cdot 2^{0}}= 568^{a_{0}\\cdot 2^{0}}\\;(mod\\; 569)$"
      ],
      "text/plain": [
       "<IPython.core.display.Math object>"
      ]
     },
     "metadata": {},
     "output_type": "display_data"
    },
    {
     "name": "stdout",
     "output_type": "stream",
     "text": [
      "So we get:\n"
     ]
    },
    {
     "data": {
      "text/latex": [
       "$\\displaystyle 568 =  568^{a_{0}\\cdot 2^{0}} \\;(mod\\; 569)$"
      ],
      "text/plain": [
       "<IPython.core.display.Math object>"
      ]
     },
     "metadata": {},
     "output_type": "display_data"
    },
    {
     "name": "stdout",
     "output_type": "stream",
     "text": [
      "We can now try plugging in all values of a_0 in range {0, 1}\n",
      "And we get equality for:"
     ]
    },
    {
     "data": {
      "text/latex": [
       "$\\displaystyle a_{0} = 1$"
      ],
      "text/plain": [
       "<IPython.core.display.Math object>"
      ]
     },
     "metadata": {},
     "output_type": "display_data"
    },
    {
     "data": {
      "text/latex": [
       "$\\displaystyle 483 = 507^{568/4} = (g^a)^{568/4} = (g^{568/4})^a = (g^{568/4})^{(a_0\\cdot2^0 + a_1\\cdot2^1 + ...)} = (g^{568/4})^{a_{0}\\cdot 2^{0}a_{1}\\cdot 2^{1}} \\cdot (g^{568})^{a_2 + ...}\\stackrel{FLT}{=} (g^{568/4})^{a_{0}\\cdot 2^{0}a_{1}\\cdot 2^{1}}= (492^{142})^{a_{0}\\cdot 2^{0}a_{1}\\cdot 2^{1}}= 483^{a_{0}\\cdot 2^{0}a_{1}\\cdot 2^{1}}\\;(mod\\; 569)$"
      ],
      "text/plain": [
       "<IPython.core.display.Math object>"
      ]
     },
     "metadata": {},
     "output_type": "display_data"
    },
    {
     "name": "stdout",
     "output_type": "stream",
     "text": [
      "So we get:\n"
     ]
    },
    {
     "data": {
      "text/latex": [
       "$\\displaystyle 483 =  483^{a_{0}\\cdot 2^{0}a_{1}\\cdot 2^{1}} \\;(mod\\; 569)$"
      ],
      "text/plain": [
       "<IPython.core.display.Math object>"
      ]
     },
     "metadata": {},
     "output_type": "display_data"
    },
    {
     "name": "stdout",
     "output_type": "stream",
     "text": [
      "We can now try plugging in all values of a_1 in range {0, 1}\n",
      "And we get equality for:"
     ]
    },
    {
     "data": {
      "text/latex": [
       "$\\displaystyle a_{1} = 0$"
      ],
      "text/plain": [
       "<IPython.core.display.Math object>"
      ]
     },
     "metadata": {},
     "output_type": "display_data"
    },
    {
     "data": {
      "text/latex": [
       "$\\displaystyle 292 = 507^{568/8} = (g^a)^{568/8} = (g^{568/8})^a = (g^{568/8})^{(a_0\\cdot2^0 + a_1\\cdot2^1 + ...)} = (g^{568/8})^{a_{0}\\cdot 2^{0}a_{1}\\cdot 2^{1}a_{2}\\cdot 2^{2}} \\cdot (g^{568})^{a_3 + ...}\\stackrel{FLT}{=} (g^{568/8})^{a_{0}\\cdot 2^{0}a_{1}\\cdot 2^{1}a_{2}\\cdot 2^{2}}= (492^{71})^{a_{0}\\cdot 2^{0}a_{1}\\cdot 2^{1}a_{2}\\cdot 2^{2}}= 277^{a_{0}\\cdot 2^{0}a_{1}\\cdot 2^{1}a_{2}\\cdot 2^{2}}\\;(mod\\; 569)$"
      ],
      "text/plain": [
       "<IPython.core.display.Math object>"
      ]
     },
     "metadata": {},
     "output_type": "display_data"
    },
    {
     "name": "stdout",
     "output_type": "stream",
     "text": [
      "So we get:\n"
     ]
    },
    {
     "data": {
      "text/latex": [
       "$\\displaystyle 292 =  277^{a_{0}\\cdot 2^{0}a_{1}\\cdot 2^{1}a_{2}\\cdot 2^{2}} \\;(mod\\; 569)$"
      ],
      "text/plain": [
       "<IPython.core.display.Math object>"
      ]
     },
     "metadata": {},
     "output_type": "display_data"
    },
    {
     "name": "stdout",
     "output_type": "stream",
     "text": [
      "We can now try plugging in all values of a_2 in range {0, 1}\n",
      "And we get equality for:"
     ]
    },
    {
     "data": {
      "text/latex": [
       "$\\displaystyle a_{2} = 1$"
      ],
      "text/plain": [
       "<IPython.core.display.Math object>"
      ]
     },
     "metadata": {},
     "output_type": "display_data"
    },
    {
     "name": "stdout",
     "output_type": "stream",
     "text": [
      "Therefore, we have: \n"
     ]
    },
    {
     "data": {
      "text/latex": [
       "$\\displaystyle \\underline{a\\; mod \\; 8 = 5}$"
      ],
      "text/plain": [
       "<IPython.core.display.Math object>"
      ]
     },
     "metadata": {},
     "output_type": "display_data"
    },
    {
     "name": "stdout",
     "output_type": "stream",
     "text": [
      "\n",
      "\n",
      "\n",
      "Focusing on 71^1:\n"
     ]
    },
    {
     "data": {
      "text/latex": [
       "$\\displaystyle 56 = 507^{568/71} = (g^a)^{568/71} = (g^{568/71})^a = (g^{568/71})^{(a_0\\cdot71^0 + a_1\\cdot71^1 + ...)} = (g^{568/71})^{a_{0}\\cdot 71^{0}} \\cdot (g^{568})^{a_1 + ...}\\stackrel{FLT}{=} (g^{568/71})^{a_{0}\\cdot 71^{0}}= (492^{8})^{a_{0}\\cdot 71^{0}}= 476^{a_{0}\\cdot 71^{0}}\\;(mod\\; 569)$"
      ],
      "text/plain": [
       "<IPython.core.display.Math object>"
      ]
     },
     "metadata": {},
     "output_type": "display_data"
    },
    {
     "name": "stdout",
     "output_type": "stream",
     "text": [
      "So we get:\n"
     ]
    },
    {
     "data": {
      "text/latex": [
       "$\\displaystyle 56 =  476^{a_{0}\\cdot 71^{0}} \\;(mod\\; 569)$"
      ],
      "text/plain": [
       "<IPython.core.display.Math object>"
      ]
     },
     "metadata": {},
     "output_type": "display_data"
    },
    {
     "name": "stdout",
     "output_type": "stream",
     "text": [
      "We can now try plugging in all values of a_0 in range {0, 1, 2, 3, 4, 5, 6, 7, 8, 9, 10, 11, 12, 13, 14, 15, 16, 17, 18, 19, 20, 21, 22, 23, 24, 25, 26, 27, 28, 29, 30, 31, 32, 33, 34, 35, 36, 37, 38, 39, 40, 41, 42, 43, 44, 45, 46, 47, 48, 49, 50, 51, 52, 53, 54, 55, 56, 57, 58, 59, 60, 61, 62, 63, 64, 65, 66, 67, 68, 69, 70}\n",
      "And we get equality for:"
     ]
    },
    {
     "data": {
      "text/latex": [
       "$\\displaystyle a_{0} = 63$"
      ],
      "text/plain": [
       "<IPython.core.display.Math object>"
      ]
     },
     "metadata": {},
     "output_type": "display_data"
    },
    {
     "name": "stdout",
     "output_type": "stream",
     "text": [
      "Therefore, we have: \n"
     ]
    },
    {
     "data": {
      "text/latex": [
       "$\\displaystyle \\underline{a\\; mod \\; 71 = 63}$"
      ],
      "text/plain": [
       "<IPython.core.display.Math object>"
      ]
     },
     "metadata": {},
     "output_type": "display_data"
    },
    {
     "name": "stdout",
     "output_type": "stream",
     "text": [
      "\n",
      "\n",
      "\n",
      "Now we want to use SRT.\n",
      "Using GCD decomposition we get:\n"
     ]
    },
    {
     "data": {
      "text/latex": [
       "$\\displaystyle 9 \\cdot 8 + -1\\cdot71 = 1$"
      ],
      "text/plain": [
       "<IPython.core.display.Math object>"
      ]
     },
     "metadata": {},
     "output_type": "display_data"
    },
    {
     "name": "stdout",
     "output_type": "stream",
     "text": [
      "So by applying SRT:\n"
     ]
    },
    {
     "data": {
      "text/latex": [
       "$\\displaystyle a = 63 \\cdot 9\\cdot8 + 5 \\cdot -1\\cdot71 \\; (mod \\;568)$"
      ],
      "text/plain": [
       "<IPython.core.display.Math object>"
      ]
     },
     "metadata": {},
     "output_type": "display_data"
    },
    {
     "data": {
      "text/latex": [
       "$\\displaystyle \\fbox{a = 205 (mod 568)}$"
      ],
      "text/plain": [
       "<IPython.core.display.Math object>"
      ]
     },
     "metadata": {},
     "output_type": "display_data"
    },
    {
     "name": "stdout",
     "output_type": "stream",
     "text": [
      "\n",
      "Validating result:\n",
      "Success!\n"
     ]
    }
   ],
   "source": [
    "if len(factors) > 2: \n",
    "    raise ValueError\n",
    "    \n",
    "a_mods = []\n",
    "for f, power in factors.items():\n",
    "    print(f'\\n\\n\\nFocusing on {f}^{power}:')\n",
    "    a_i_values = []\n",
    "    for curr_power in range(1, power + 1):\n",
    "        eq_str = fr'{g_a^((p-1)/(f^curr_power))} = {g_a}^{{{p-1}/{f^curr_power}}} = (g^a)^{{{p-1}/{f^curr_power}}} = '\n",
    "        eq_str += fr'(g^{{{p-1}/{f^curr_power}}})^a = (g^{{{p-1}/{f^curr_power}}})^{{(a_0\\cdot{f}^0 + a_1\\cdot{f}^1 + ...)}} = '\n",
    "        \n",
    "        expo_str = ''\n",
    "        for i in range(curr_power):\n",
    "            expo_str += fr'a_{{{i}}}\\cdot {f}^{{{i}}} + '\n",
    "            expo_str = expo_str[:-3]\n",
    "        eq_str += fr'(g^{{{p-1}/{f^curr_power}}})^{{{expo_str}}} \\cdot (g^{{{p-1}}})^{{a_{curr_power} + ...}}'\n",
    "        \n",
    "        eq_str += fr'\\stackrel{{FLT}}{{=}} (g^{{{p-1}/{f^curr_power}}})^{{{expo_str}}}'\n",
    "        eq_str += fr'= ({g}^{{{Fp(p-1)/(f^curr_power)}}})^{{{expo_str}}}'\n",
    "        eq_str += fr'= {g^((p-1)/(f^curr_power))}^{{{expo_str}}}'\n",
    "        eq_str += fr'\\;(mod\\; {p})'\n",
    "        display(Math(eq_str))\n",
    "        print('So we get:')\n",
    "        display(Math(fr'{g_a^((p-1)/(f^curr_power))} =  {g^((p-1)/(f^curr_power))}^{{{expo_str}}} \\;(mod\\; {p})'))\n",
    "        \n",
    "        \n",
    "        print(f'We can now try plugging in all values of a_{len(a_i_values)} in range {{{\", \".join([str(num) for num in range(f)])}}}')\n",
    "        expo_term = 0\n",
    "        for idx, prev_ai_value in enumerate(a_i_values):\n",
    "            expo_term += prev_ai_value * (f^idx)\n",
    "            \n",
    "        a_i_values_length = len(a_i_values)\n",
    "        for num in range(f):  # iterate over all a_i possibilities\n",
    "            expo_term_with_num = expo_term + num * (f^a_i_values_length)\n",
    "            if g_a^((p-1)/(f^curr_power)) == (g^((p-1)/(f^curr_power)))^expo_term_with_num:\n",
    "#                 print('num',num)\n",
    "#                 print(g_a^((p-1)/(f^curr_power)))\n",
    "# #                 import pdb;pdb.set_trace()\n",
    "#                 print((g^((p-1)/(f^curr_power)))^expo_term_with_num)\n",
    "#                 print('\\n')\n",
    "                a_i_values.append(num)\n",
    "        assert len(a_i_values) - a_i_values_length == 1, (len(a_i_values) - a_i_values_length)\n",
    "                \n",
    "        print('And we get equality for:',end='')\n",
    "        display(Math(fr'a_{{{len(a_i_values)-1}}} = {a_i_values[-1]}'))\n",
    "        \n",
    "        \n",
    "    print('Therefore, we have: ')\n",
    "    a_mod = 0\n",
    "    for idx, a_i in enumerate(a_i_values):\n",
    "        a_mod += a_i * (f^idx)\n",
    "    a_mods.append(a_mod)\n",
    "    display(Math(fr'\\underline{{a\\; mod \\; {f^power} = {a_mod}}}'))\n",
    "    \n",
    "        \n",
    "        \n",
    "print('\\n\\n')\n",
    "print('Now we want to use SRT.')\n",
    "print('Using GCD decomposition we get:')\n",
    "n, m = [f^power for f, power in factors.items()]\n",
    "gcd_value, c, d = xgcd(n, m)\n",
    "display(Math(fr'{c} \\cdot {n} + {d}\\cdot{m} = {gcd_value}'))\n",
    "print('So by applying SRT:')\n",
    "display(Math(fr'a = {a_mods[1]} \\cdot {c}\\cdot{n} + {a_mods[0]} \\cdot {d}\\cdot{m} \\; (mod \\;{p - 1})'))\n",
    "a = a_mods[1] * c * n + a_mods[0] * d * m\n",
    "a = a % (p-1)\n",
    "display(Math(fr'\\fbox{{a = {a} (mod {p - 1})}}'))\n",
    "    \n",
    "# make sure result is correct\n",
    "print('\\nValidating result:')\n",
    "assert g ^ a == g_a\n",
    "print('Success!')\n",
    "\n",
    "    "
   ]
  },
  {
   "cell_type": "code",
   "execution_count": null,
   "id": "d7bd1577",
   "metadata": {},
   "outputs": [],
   "source": []
  },
  {
   "cell_type": "code",
   "execution_count": null,
   "id": "4c053d48",
   "metadata": {},
   "outputs": [],
   "source": []
  }
 ],
 "metadata": {
  "kernelspec": {
   "display_name": "SageMath 10.1",
   "language": "sage",
   "name": "sagemath-10.1"
  },
  "language_info": {
   "codemirror_mode": {
    "name": "ipython",
    "version": 3
   },
   "file_extension": ".py",
   "mimetype": "text/x-python",
   "name": "python",
   "nbconvert_exporter": "python",
   "pygments_lexer": "ipython3",
   "version": "3.11.1"
  }
 },
 "nbformat": 4,
 "nbformat_minor": 5
}
