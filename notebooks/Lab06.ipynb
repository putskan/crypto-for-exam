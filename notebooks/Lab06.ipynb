{
 "cells": [
  {
   "cell_type": "code",
   "execution_count": 1,
   "id": "41e7ae13",
   "metadata": {},
   "outputs": [
    {
     "name": "stdout",
     "output_type": "stream",
     "text": [
      "got: 30\n",
      "expected: 30\n"
     ]
    }
   ],
   "source": [
    "# El Gamal Digital Signature\n",
    "p = 37\n",
    "Fp = FiniteField(p)\n",
    "\n",
    "m = 14\n",
    "g = 2\n",
    "r = 19\n",
    "sig = 19\n",
    "pk = 23\n",
    "\n",
    "print('got:', Fp(pk)**r * Fp(r) ** sig)\n",
    "print('expected:', Fp(g) ** m)\n"
   ]
  },
  {
   "cell_type": "code",
   "execution_count": 2,
   "id": "f85e5d13",
   "metadata": {},
   "outputs": [
    {
     "name": "stdout",
     "output_type": "stream",
     "text": [
      "[2, 5, 13, 15, 17, 18, 19, 20, 22, 24]\n"
     ]
    }
   ],
   "source": [
    "# check if g is a generator of Fp*\n",
    "def is_generator(p: int, g: int, verbose: bool = False) -> bool:\n",
    "    genereted_numbers = set()\n",
    "    for i in range(p):\n",
    "        genereted_numbers.add((g ** i) % p)\n",
    "\n",
    "    not_generated = set(range(1, p - 1)) - genereted_numbers\n",
    "    if verbose:\n",
    "        print(not_generated)\n",
    "        print(len(not_generated))\n",
    "        \n",
    "    return len(not_generated) == 0\n",
    "\n",
    "\n",
    "# p = 31\n",
    "# g = 2\n",
    "# is_generator(p, g)\n",
    "\n",
    "\n",
    "# find all multiplicative generators\n",
    "generators = []\n",
    "for g in range(1, 31):\n",
    "    if is_generator(p, g):\n",
    "        generators.append(g)\n",
    "\n",
    "print(generators)\n"
   ]
  },
  {
   "cell_type": "code",
   "execution_count": 3,
   "id": "4bb788c3",
   "metadata": {},
   "outputs": [
    {
     "data": {
      "text/plain": [
       "2"
      ]
     },
     "execution_count": 3,
     "metadata": {},
     "output_type": "execute_result"
    }
   ],
   "source": [
    "# another way to find one generator\n",
    "FiniteField(p).multiplicative_generator()"
   ]
  },
  {
   "cell_type": "code",
   "execution_count": 4,
   "id": "b05594f6",
   "metadata": {},
   "outputs": [
    {
     "name": "stdout",
     "output_type": "stream",
     "text": [
      "[3, 7]\n",
      "[0, 6]\n",
      "[3342, 0]\n",
      "3342\n"
     ]
    }
   ],
   "source": [
    "# online solver: https://asecuritysite.com/principles/log_poh?val1=7531&val2=6&val3=8101\n",
    "def pohlig_helman(p: int, g: int, g_a: int) -> int:\n",
    "    \"\"\"\n",
    "    find a satisfyinh g^a = g_a mod p\n",
    "    \"\"\"\n",
    "    Fp = FiniteField(p)\n",
    "    g_a = Fp(g_a)\n",
    "    g = Fp(g)    \n",
    "    \n",
    "    mod_results = [] # a mod4, a mod9\n",
    "    \n",
    "    prime_to_power = list(factor(p - 1))  # list of tuples [ (prime_number, power), ... ]\n",
    "    if len(prime_to_power) != 2:\n",
    "        raise NotImplementedError(f'Dont know how to solve with {len(prime_to_power)} factors')\n",
    "    \n",
    "    for prime, power in prime_to_power:\n",
    "        # a mod prime^power in base prime. for instance, 31 mod 27 in base 3 is: \n",
    "        # a0*3^0 + a1*3^1 + a2*e^2  = 1*3^0 + 1*3^1 + 0*e^2  so the array contains [1, 1, 0]\n",
    "        \n",
    "        \n",
    "        \n",
    "        basis_coeffs = [] # b_i values\n",
    "        for i in range(1, power + 1):  # TODO: not sure about the range\n",
    "            lhs = g_a ^ ((p-1) / (prime^i)) \n",
    "            \n",
    "            # get RHS coeff\n",
    "            rhs_coeff_exp = 0\n",
    "            for j, coeff in enumerate(basis_coeffs):\n",
    "                rhs_coeff_exp += coeff * (p-1) / (prime ^ (i - j))\n",
    "            rhs_coeff = g ^ rhs_coeff_exp\n",
    "            \n",
    "            # iterate over possible RHS\n",
    "            for possible_b_l in range(prime):\n",
    "                rhs = rhs_coeff * (g ^ (possible_b_l * (p-1) / (prime ^ (i - len(basis_coeffs)))))\n",
    "                if rhs == lhs:\n",
    "                    basis_coeffs.append(possible_b_l)\n",
    "                    break\n",
    "                    \n",
    "                if possible_b_l == prime - 1:\n",
    "                    raise Exception('oops. probably bug. didnt break')\n",
    "        \n",
    "        mod_res = 0\n",
    "        for i, basis_coeff in enumerate(basis_coeffs):\n",
    "            mod_res += basis_coeff * (prime ^ i)\n",
    "            \n",
    "        mod_results.append(mod_res)\n",
    "        \n",
    "        \n",
    "    # print(mod_results)\n",
    "\n",
    "    n, m = prime_to_power[0][0] ^ prime_to_power[0][1], prime_to_power[1][0] ^ prime_to_power[1][1]\n",
    "    one, c, d = xgcd(n, m)\n",
    "    assert c * n + d * m == one == 1\n",
    "    \n",
    "    a = (mod_results[0] * d * m + mod_results[1] * c * n) % (p - 1)\n",
    "    print(mod_results)\n",
    "    print(f'({mod_results[0]} * {d} * {m} + {mod_results[1]} * {c} * {n}) % (p - 1)')\n",
    "    return a\n",
    "\n",
    "\n",
    "\n",
    "# tests:\n",
    "p = 37\n",
    "g = 2\n",
    "g_a = 17\n",
    "assert pohlig_helman(p, g, g_a) == 7\n",
    "\n",
    "p = 23\n",
    "g = 5\n",
    "g_a = 8\n",
    "a = pohlig_helman(p, g, g_a)\n",
    "assert FiniteField(p)(g) ^ a == g_a\n",
    "\n",
    "\n",
    "p = 12289\n",
    "g = 11\n",
    "g_a = 8080\n",
    "a = pohlig_helman(p, g, g_a)\n",
    "assert FiniteField(p)(g) ^ a == g_a\n",
    "print(a)\n",
    "\n",
    "\n",
    "# # 3 factors:\n",
    "# p = 43\n",
    "# g = 5\n",
    "# g_a = 8\n",
    "# assert pohlig_helman(p, g, g_a) == 15\n",
    "\n"
   ]
  },
  {
   "cell_type": "code",
   "execution_count": 5,
   "id": "473ebd3d",
   "metadata": {},
   "outputs": [
    {
     "name": "stdout",
     "output_type": "stream",
     "text": [
      "p:  23117\n",
      "g:  2\n",
      "h:  432\n",
      "[3, 4555]\n",
      "a:  4555\n"
     ]
    }
   ],
   "source": [
    "def lab06_6(n: int):\n",
    "    p = n.next_prime()\n",
    "    Fp = FiniteField(p)\n",
    "    g = Fp.multiplicative_generator()\n",
    "    h = Fp.random_element(x=1)\n",
    "    \n",
    "    print('p: ', p)\n",
    "    print('g: ', g)\n",
    "    print('h: ', h)\n",
    "    print('a: ', pohlig_helman(p, g, h))\n",
    "    \n",
    "    \n",
    "lab06_6(23112)"
   ]
  },
  {
   "cell_type": "code",
   "execution_count": 6,
   "id": "0f21c39a",
   "metadata": {},
   "outputs": [],
   "source": [
    "def lab06_6b(n: int):\n",
    "    p = n.next_prime()\n",
    "    Fp = FiniteField(p)\n",
    "    return Fp.multiplicative_generator()\n"
   ]
  },
  {
   "cell_type": "code",
   "execution_count": 7,
   "id": "110d4b8e",
   "metadata": {},
   "outputs": [
    {
     "data": {
      "text/plain": [
       "11"
      ]
     },
     "execution_count": 7,
     "metadata": {},
     "output_type": "execute_result"
    }
   ],
   "source": [
    "Fp = FiniteField(p)\n",
    "Fp.multiplicative_generator()\n"
   ]
  },
  {
   "cell_type": "code",
   "execution_count": null,
   "id": "c2bb2cd3",
   "metadata": {},
   "outputs": [],
   "source": []
  },
  {
   "cell_type": "code",
   "execution_count": null,
   "id": "db4fff23",
   "metadata": {},
   "outputs": [],
   "source": []
  }
 ],
 "metadata": {
  "kernelspec": {
   "display_name": "SageMath 10.1",
   "language": "sage",
   "name": "sagemath-10.1"
  },
  "language_info": {
   "codemirror_mode": {
    "name": "ipython",
    "version": 3
   },
   "file_extension": ".py",
   "mimetype": "text/x-python",
   "name": "python",
   "nbconvert_exporter": "python",
   "pygments_lexer": "ipython3",
   "version": "3.11.1"
  }
 },
 "nbformat": 4,
 "nbformat_minor": 5
}
