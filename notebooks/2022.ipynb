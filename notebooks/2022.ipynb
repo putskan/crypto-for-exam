{
 "cells": [
  {
   "cell_type": "code",
   "execution_count": 111,
   "id": "45dfc087",
   "metadata": {},
   "outputs": [
    {
     "name": "stdout",
     "output_type": "stream",
     "text": [
      "[(3, 1), (13, 1), (53, 1)]\n"
     ]
    },
    {
     "ename": "AssertionError",
     "evalue": "[3, 13, 53]",
     "output_type": "error",
     "traceback": [
      "\u001b[0;31m---------------------------------------------------------------------------\u001b[0m",
      "\u001b[0;31mAssertionError\u001b[0m                            Traceback (most recent call last)",
      "Cell \u001b[0;32mIn [111], line 8\u001b[0m\n\u001b[1;32m      6\u001b[0m factors \u001b[38;5;241m=\u001b[39m [r[Integer(\u001b[38;5;241m0\u001b[39m)] \u001b[38;5;28;01mfor\u001b[39;00m r \u001b[38;5;129;01min\u001b[39;00m \u001b[38;5;28mlist\u001b[39m(F)]\n\u001b[1;32m      7\u001b[0m \u001b[38;5;28mprint\u001b[39m(\u001b[38;5;28mlist\u001b[39m(F))\n\u001b[0;32m----> 8\u001b[0m \u001b[38;5;28;01massert\u001b[39;00m \u001b[38;5;28mlen\u001b[39m(factors) \u001b[38;5;241m==\u001b[39m Integer(\u001b[38;5;241m2\u001b[39m), factors\n\u001b[1;32m      9\u001b[0m p, q \u001b[38;5;241m=\u001b[39m factors\n\u001b[1;32m     10\u001b[0m \u001b[38;5;28mprint\u001b[39m(\u001b[38;5;124mf\u001b[39m\u001b[38;5;124m'\u001b[39m\u001b[38;5;124mp=\u001b[39m\u001b[38;5;132;01m{\u001b[39;00mp\u001b[38;5;132;01m}\u001b[39;00m\u001b[38;5;124m, q=\u001b[39m\u001b[38;5;132;01m{\u001b[39;00mq\u001b[38;5;132;01m}\u001b[39;00m\u001b[38;5;124m'\u001b[39m)\n",
      "\u001b[0;31mAssertionError\u001b[0m: [3, 13, 53]"
     ]
    }
   ],
   "source": [
    "# RSA check valid key - checks e, phi(n) are coprimes, and that n is a product of exactly two primes\n",
    "e = 101\n",
    "n = 2067\n",
    "# (101, 2067)\n",
    "F = factor(n)\n",
    "factors = [r[0] for r in list(F)]\n",
    "print(list(F))\n",
    "assert len(factors) == 2, factors\n",
    "p, q = factors\n",
    "print(f'p={p}, q={q}')\n",
    "phi_n = (p-1) * (q-1)\n",
    "print('phi_n=',phi_n)\n",
    "\n",
    "print(gcd(phi_n, e))\n",
    "assert gcd(phi_n, e) == 1\n",
    "# check e and phi are coprimes\n"
   ]
  },
  {
   "cell_type": "code",
   "execution_count": 77,
   "id": "63510d0c",
   "metadata": {},
   "outputs": [
    {
     "name": "stdout",
     "output_type": "stream",
     "text": [
      "True\n"
     ]
    },
    {
     "data": {
      "text/plain": [
       "(x + 1)^2"
      ]
     },
     "execution_count": 77,
     "metadata": {},
     "output_type": "execute_result"
    }
   ],
   "source": [
    "# Factorize poly\n",
    "\n",
    "p = 2\n",
    "Fp = FiniteField(p)\n",
    "poly = x^2+1\n",
    "R.<x> = PolynomialRing(Fp)\n",
    "print(poly in R)\n",
    "factors = poly.factor()\n",
    "factors"
   ]
  },
  {
   "cell_type": "code",
   "execution_count": 96,
   "id": "551254b6",
   "metadata": {},
   "outputs": [
    {
     "name": "stdout",
     "output_type": "stream",
     "text": [
      "m=8, sk_b=7\n"
     ]
    }
   ],
   "source": [
    "# El Gamal Enc (and diffie hellman)\n",
    "\n",
    "p, g, pk_a = (31, 3, 15)\n",
    "\n",
    "sk_b = random_prime(p - 2, proof=True) \n",
    "m = sage.misc.prandom.randrange(start=1, stop=p-1)\n",
    "print(f'm={m}, sk_b={sk_b}')\n",
    "\n"
   ]
  },
  {
   "cell_type": "code",
   "execution_count": 104,
   "id": "ad5f2e4a",
   "metadata": {},
   "outputs": [
    {
     "data": {
      "text/plain": [
       "23"
      ]
     },
     "execution_count": 104,
     "metadata": {},
     "output_type": "execute_result"
    }
   ],
   "source": [
    "17.inverse_mod(30)"
   ]
  },
  {
   "cell_type": "code",
   "execution_count": 106,
   "id": "696e0713",
   "metadata": {},
   "outputs": [
    {
     "name": "stdout",
     "output_type": "stream",
     "text": [
      "1: 6\n",
      "6: 6\n",
      "11: 6\n",
      "16: 6\n",
      "21: 6\n",
      "26: 6\n"
     ]
    }
   ],
   "source": [
    "for a in range(30):\n",
    "    if (6*a)%30 == 6:\n",
    "        print(f'{a}: {(6*a)%30}')"
   ]
  },
  {
   "cell_type": "code",
   "execution_count": 110,
   "id": "b8da5b41",
   "metadata": {},
   "outputs": [
    {
     "data": {
      "text/plain": [
       "8"
      ]
     },
     "execution_count": 110,
     "metadata": {},
     "output_type": "execute_result"
    }
   ],
   "source": [
    "ctr = 0\n",
    "for i in range(30):\n",
    "    if gcd(i, 30) == 1: ctr+=1\n",
    "        \n",
    "ctr"
   ]
  }
 ],
 "metadata": {
  "kernelspec": {
   "display_name": "SageMath 10.1",
   "language": "sage",
   "name": "sagemath-10.1"
  },
  "language_info": {
   "codemirror_mode": {
    "name": "ipython",
    "version": 3
   },
   "file_extension": ".py",
   "mimetype": "text/x-python",
   "name": "python",
   "nbconvert_exporter": "python",
   "pygments_lexer": "ipython3",
   "version": "3.11.1"
  }
 },
 "nbformat": 4,
 "nbformat_minor": 5
}
